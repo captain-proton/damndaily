{
 "cells": [
  {
   "cell_type": "code",
   "execution_count": 1,
   "metadata": {},
   "outputs": [],
   "source": [
    "import os\n",
    "os.environ.setdefault(\"DJANGO_SETTINGS_MODULE\", \"damndaily.settings\")\n",
    "\n",
    "import django\n",
    "django.setup()"
   ]
  },
  {
   "cell_type": "code",
   "execution_count": 2,
   "metadata": {
    "collapsed": true
   },
   "outputs": [],
   "source": [
    "import string\n",
    "import random\n",
    "\n",
    "def random_string(length=8, letters=True, uppercase=True, lowercase=True):\n",
    "    choices = ((letters, string.ascii_letters),\n",
    "               (uppercase, string.ascii_uppercase),\n",
    "               (lowercase, string.ascii_lowercase))\n",
    "    choices = ''.join([c[1] for c in choices if c[0]])\n",
    "    return ''.join([random.choice(choices) for _ in range(length)])"
   ]
  },
  {
   "cell_type": "code",
   "execution_count": 3,
   "metadata": {},
   "outputs": [
    {
     "name": "stdout",
     "output_type": "stream",
     "text": [
      "qWtkwsmA\n",
      "vLBnTQaW\n",
      "pNptNhqu\n",
      "OpNIzKYH\n",
      "WmKoYMnu\n",
      "iUvpIMPH\n",
      "zMusguxO\n",
      "IIKLJJdw\n",
      "CTOXEoyu\n",
      "opHYDySY\n"
     ]
    }
   ],
   "source": [
    "for _ in range(10):\n",
    "    print(random_string())"
   ]
  },
  {
   "cell_type": "code",
   "execution_count": null,
   "metadata": {},
   "outputs": [],
   "source": [
    "from pprint import pprint\n",
    "from webapp.models import *\n",
    "\n",
    "participations = Participation.objects.all()\n",
    "for p in participations:\n",
    "    pprint(p)"
   ]
  }
 ],
 "metadata": {
  "kernelspec": {
   "display_name": "Python 3",
   "language": "python",
   "name": "python3"
  },
  "language_info": {
   "codemirror_mode": {
    "name": "ipython",
    "version": 3
   },
   "file_extension": ".py",
   "mimetype": "text/x-python",
   "name": "python",
   "nbconvert_exporter": "python",
   "pygments_lexer": "ipython3",
   "version": "3.6.2"
  }
 },
 "nbformat": 4,
 "nbformat_minor": 2
}
